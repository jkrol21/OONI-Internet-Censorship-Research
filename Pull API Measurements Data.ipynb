{
 "cells": [
  {
   "cell_type": "code",
   "execution_count": null,
   "metadata": {},
   "outputs": [],
   "source": [
    "import requests\n",
    "import json\n",
    "from pandas.io.json import json_normalize\n",
    "import pandas as pd\n",
    "\n",
    "from datetime import datetime, timedelta\n",
    "\n",
    "import time"
   ]
  },
  {
   "cell_type": "markdown",
   "metadata": {},
   "source": [
    "### Required Methods"
   ]
  },
  {
   "cell_type": "code",
   "execution_count": null,
   "metadata": {},
   "outputs": [],
   "source": [
    "def get_request(url, params = ''):\n",
    "    response = requests.get(url, params=params)\n",
    "    if(response.status_code == 200):\n",
    "        return response.json()\n",
    "    else:\n",
    "        return None\n",
    "## TODO\n",
    "# function does not distinguish between API error or missing values\n",
    "def get_report_outcome(report_url):\n",
    "    # Get report JSON file\n",
    "    report = get_request(report_url)\n",
    "    \n",
    "    ret = {}\n",
    "    \n",
    "    ## Additional attributes can be added from the measurement JSON file\n",
    "    try:\n",
    "        ret[\"blocking\"] = report['test_keys']['blocking']\n",
    "    except:\n",
    "        ret[\"blocking\"] =  'Na'\n",
    "        \n",
    "    try:\n",
    "        ret[\"probe_platform\"] = report['annotations']['platform']\n",
    "    except:\n",
    "        ret[\"probe_platform\"] =  'Na'\n",
    "        \n",
    "    try:\n",
    "        ret[\"probe_network_type\"] = report['annotations']['network_type']\n",
    "    except:\n",
    "        ret[\"probe_network_type\"] =  'Na'\n",
    "    \n",
    "    try:\n",
    "        ret[\"dns_ip\"] = report['test_keys']['client_resolver']\n",
    "    except:\n",
    "        ret[\"dns_ip\"] =  'Na'\n",
    "    \n",
    "    try:\n",
    "        ret[\"page_title\"] = report['test_keys']['control']['http_request']['title']\n",
    "    except:\n",
    "        ret[\"page_title\"] =  'Na'\n",
    "    \n",
    "    try:\n",
    "        ret[\"http_status_code\"] = report['test_keys']['control']['http_request']['status_code']\n",
    "    except:\n",
    "        ret[\"http_status_code\"] =  'Na'\n",
    "    \n",
    "    ## TODO\n",
    "    # possible to extract more fields from the result JSON\n",
    "\n",
    "    return ret"
   ]
  },
  {
   "cell_type": "markdown",
   "metadata": {},
   "source": [
    "# Pull OONI `web_connectivity` Test Data\n",
    "### Test Description: https://github.com/ooni/spec/blob/master/nettests/ts-017-web-connectivity.md"
   ]
  },
  {
   "cell_type": "code",
   "execution_count": null,
   "metadata": {},
   "outputs": [],
   "source": [
    "ret = None\n",
    "\n",
    "url = \"https://api.ooni.io/api/v1/measurements\"\n",
    "\n",
    "# Adjust start and end date\n",
    "start = datetime.strptime(\"2019-12-01\", \"%Y-%m-%d\")\n",
    "end = datetime.strptime(\"2019-12-05\", \"%Y-%m-%d\")\n",
    "# Watch out for enough memory in case large periods of measurements are pulled\n",
    "\n",
    "params = {\n",
    "        \"test_name\" : \"web_connectivity\",  \n",
    "        \"probe_cc\" : \"GB\",\n",
    "        \"limit\" : \"10000000\"\n",
    "        }\n",
    "\n",
    "day = start\n",
    "\n",
    "# Only get data for 1 day and not whole timeframe to avoid API timeout\n",
    "while day <= end:\n",
    "    # Set timeframe to get data\n",
    "    params['since'] = day.strftime(\"%Y-%m-%d\") + \"T00:00:00\"\n",
    "    params['until'] = day.strftime(\"%Y-%m-%d\") + \"T23:59:59\"\n",
    "    \n",
    "    print(\"## Getting data for \"+  day.strftime(\"%Y-%m-%d\"))\n",
    "    \n",
    "    response = requests.get(url, params=params)\n",
    "    \n",
    "    if response.status_code == 200:\n",
    "        response_json = response.json()\n",
    "        \n",
    "        if response_json['metadata']['count'] > 0:\n",
    "        # iterate through list of all reports\n",
    "            for r in response_json['results']:         \n",
    "                outcome = get_report_outcome(r['measurement_url'])\n",
    "                # Merge Metadata with test outcome\n",
    "                tmp_df = pd.merge(json_normalize(r), json_normalize(outcome), left_index=True, right_index = True)\n",
    "\n",
    "                # Add each row to result df\n",
    "                if ret is None:\n",
    "                    ret = tmp_df\n",
    "                else:\n",
    "                    ret = ret.append(tmp_df)\n",
    "    \n",
    "    # API Timeout\n",
    "    elif response.status_code == 504:\n",
    "        print(\"API Timeout\")\n",
    "    \n",
    "    # Service unavailable\n",
    "    elif response.status_code == 503:\n",
    "        # wait and try one more time\n",
    "        time.sleep(5)\n",
    "        continue\n",
    "        \n",
    "    else:\n",
    "        print(\"Bad API response - Status Code: \" + str(response.status_code))\n",
    "                    \n",
    "    day = day + timedelta(days=1)           \n",
    "    \n",
    "    print(\"Already \" + str(len(ret)) + \" measurements loaded.\")\n",
    "\n",
    "ret.head()"
   ]
  },
  {
   "cell_type": "code",
   "execution_count": null,
   "metadata": {},
   "outputs": [],
   "source": [
    "ret.info()"
   ]
  },
  {
   "cell_type": "markdown",
   "metadata": {},
   "source": [
    "### Save Data as CSV"
   ]
  },
  {
   "cell_type": "code",
   "execution_count": null,
   "metadata": {},
   "outputs": [],
   "source": [
    "# save CSV\n",
    "ret.to_csv('OONI Web_Con Measurements.csv',index=False)"
   ]
  }
 ],
 "metadata": {
  "kernelspec": {
   "display_name": "Python 3",
   "language": "python",
   "name": "python3"
  },
  "language_info": {
   "codemirror_mode": {
    "name": "ipython",
    "version": 3
   },
   "file_extension": ".py",
   "mimetype": "text/x-python",
   "name": "python",
   "nbconvert_exporter": "python",
   "pygments_lexer": "ipython3",
   "version": "3.6.6"
  }
 },
 "nbformat": 4,
 "nbformat_minor": 2
}
